{
 "cells": [
  {
   "cell_type": "markdown",
   "metadata": {},
   "source": [
    "## Modeling Assessed Value of Single Family Homes in Boston\n",
    "### 2019 Property Assessment Dataset\n",
    "\n",
    "#### Janaki E. Viswanathan\n",
    "\n",
    "#### Dataset link: https://data.boston.gov/dataset/property-assessment"
   ]
  },
  {
   "cell_type": "code",
   "execution_count": 3,
   "metadata": {},
   "outputs": [],
   "source": [
    "# Import libraries\n",
    "import numpy as np\n",
    "import pandas as pd\n",
    "import matplotlib.pyplot as plt\n",
    "from datetime import datetime\n",
    "\n",
    "from sklearn.ensemble import RandomForestRegressor\n",
    "from sklearn.model_selection import cross_validate\n",
    "from sklearn.model_selection import train_test_split\n",
    "from sklearn import metrics\n",
    "import math\n",
    "\n",
    "\n",
    "from sklearn.linear_model import LinearRegression\n",
    "from sklearn.metrics import r2_score\n",
    "from sklearn.tree import DecisionTreeRegressor\n",
    "from sklearn.model_selection import cross_val_score\n",
    "from sklearn import preprocessing\n",
    "from sklearn import linear_model"
   ]
  },
  {
   "cell_type": "markdown",
   "metadata": {},
   "source": [
    "## Process\n",
    "### To analyze the dataset the SEMMA process will be followed. Sample → Explore → Modify → Model → Assess.\n"
   ]
  },
  {
   "cell_type": "markdown",
   "metadata": {},
   "source": [
    "## 1. Sample\n",
    "### -- Gather data and import data into Pandas dataframe\n",
    "### -- Select all rows with PTYPE =101(Single Family Homes records)\n",
    "### -- Drop all columns/variables not associated with single family homes.\n"
   ]
  },
  {
   "cell_type": "code",
   "execution_count": 4,
   "metadata": {},
   "outputs": [
    {
     "name": "stderr",
     "output_type": "stream",
     "text": [
      "C:\\Users\\AnalyticsStudent\\Anaconda3\\lib\\site-packages\\IPython\\core\\interactiveshell.py:2728: DtypeWarning: Columns (15,60) have mixed types. Specify dtype option on import or set low_memory=False.\n",
      "  interactivity=interactivity, compiler=compiler, result=result)\n"
     ]
    }
   ],
   "source": [
    "# Read in the Boston Property dataset. Make sure to specified file location. Replace the path with your dataset\n",
    "data = pd.read_csv('C:/ISTM615/ISTM601/Project/fy19fullpropassess.csv')"
   ]
  },
  {
   "cell_type": "code",
   "execution_count": 5,
   "metadata": {},
   "outputs": [
    {
     "name": "stdout",
     "output_type": "stream",
     "text": [
      "Number of records:\n",
      "174668\n",
      "Number of attributes:\n",
      "75\n",
      "         PID        CM_ID     GIS_ID ST_NUM ST_NAME ST_NAME_SUF UNIT_NUM  \\\n",
      "0  502550008  502550000.0  502550000     87  BEACON          ST      2-F   \n",
      "1  502550010  502550000.0  502550000     87  BEACON          ST      2-R   \n",
      "2  502550012  502550000.0  502550000     87  BEACON          ST      3-F   \n",
      "3  502550014  502550000.0  502550000     87  BEACON          ST      3-R   \n",
      "4  502550016  502550000.0  502550000     87  BEACON          ST        4   \n",
      "\n",
      "   ZIPCODE  PTYPE  LU   ...   U_BTH_STYLE2 U_BTH_STYLE3 U_KITCH_TYPE  \\\n",
      "0   2108.0    102  CD   ...              M          NaN            O   \n",
      "1   2108.0    102  CD   ...            NaN          NaN            O   \n",
      "2   2108.0    102  CD   ...              S          NaN            O   \n",
      "3   2108.0    102  CD   ...            NaN          NaN            O   \n",
      "4   2108.0    102  CD   ...              M            M            O   \n",
      "\n",
      "  U_KITCH_STYLE U_HEAT_TYP U_AC  U_FPLACE  U_INT_FIN  U_INT_CND  U_VIEW  \n",
      "0             M          W    N       1.0          N          G       A  \n",
      "1             S          W    N       1.0          N          A       A  \n",
      "2             M          W    N       1.0          N          A       G  \n",
      "3             N          W    N       1.0          S          A       G  \n",
      "4             L          W    C       2.0          N          E       G  \n",
      "\n",
      "[5 rows x 75 columns]\n",
      "Datatype and variable information\n",
      "<class 'pandas.core.frame.DataFrame'>\n",
      "RangeIndex: 174668 entries, 0 to 174667\n",
      "Data columns (total 75 columns):\n",
      "PID                174668 non-null int64\n",
      "CM_ID              82038 non-null float64\n",
      "GIS_ID             174668 non-null int64\n",
      "ST_NUM             174668 non-null object\n",
      "ST_NAME            174668 non-null object\n",
      "ST_NAME_SUF        174129 non-null object\n",
      "UNIT_NUM           65700 non-null object\n",
      "ZIPCODE            174661 non-null float64\n",
      "PTYPE              174668 non-null int64\n",
      "LU                 174668 non-null object\n",
      "OWN_OCC            174668 non-null object\n",
      "OWNER              174668 non-null object\n",
      "MAIL_ADDRESSEE     174668 non-null object\n",
      "MAIL_ADDRESS       174668 non-null object\n",
      "MAIL CS            174668 non-null object\n",
      "MAIL_ZIPCODE       174668 non-null object\n",
      "AV_LAND            174668 non-null int64\n",
      "AV_BLDG            174668 non-null int64\n",
      "AV_TOTAL           174668 non-null int64\n",
      "GROSS_TAX          174668 non-null int64\n",
      "LAND_SF            169227 non-null float64\n",
      "YR_BUILT           169454 non-null float64\n",
      "YR_REMOD           132872 non-null float64\n",
      "GROSS_AREA         169140 non-null float64\n",
      "LIVING_AREA        169140 non-null float64\n",
      "NUM_FLOORS         152139 non-null float64\n",
      "STRUCTURE_CLASS    84501 non-null object\n",
      "R_BLDG_STYL        62760 non-null object\n",
      "R_ROOF_TYP         62757 non-null object\n",
      "R_EXT_FIN          62757 non-null object\n",
      "R_TOTAL_RMS        62757 non-null float64\n",
      "R_BDRMS            62757 non-null float64\n",
      "R_FULL_BTH         62757 non-null float64\n",
      "R_HALF_BTH         62757 non-null float64\n",
      "R_BTH_STYLE        62757 non-null object\n",
      "R_BTH_STYLE2       54762 non-null object\n",
      "R_BTH_STYLE3       27184 non-null object\n",
      "R_KITCH            62757 non-null float64\n",
      "R_KITCH_STYLE      62757 non-null object\n",
      "R_KITCH_STYLE2     32829 non-null object\n",
      "R_KITCH_STYLE3     14566 non-null object\n",
      "R_HEAT_TYP         62757 non-null object\n",
      "R_AC               62757 non-null object\n",
      "R_FPLACE           62757 non-null float64\n",
      "R_EXT_CND          62757 non-null object\n",
      "R_OVRALL_CND       62757 non-null object\n",
      "R_INT_CND          62757 non-null object\n",
      "R_INT_FIN          62757 non-null object\n",
      "R_VIEW             62757 non-null object\n",
      "S_NUM_BLDG         3567 non-null float64\n",
      "S_BLDG_STYL        9930 non-null object\n",
      "S_UNIT_RES         9930 non-null float64\n",
      "S_UNIT_COM         9930 non-null float64\n",
      "S_UNIT_RC          9930 non-null float64\n",
      "S_EXT_FIN          9930 non-null object\n",
      "S_EXT_CND          9930 non-null object\n",
      "U_BASE_FLOOR       64044 non-null float64\n",
      "U_NUM_PARK         64044 non-null float64\n",
      "U_CORNER           64044 non-null object\n",
      "U_ORIENT           64044 non-null object\n",
      "U_TOT_RMS          64044 non-null object\n",
      "U_BDRMS            64044 non-null float64\n",
      "U_FULL_BTH         64044 non-null float64\n",
      "U_HALF_BTH         64044 non-null float64\n",
      "U_BTH_STYLE        64044 non-null object\n",
      "U_BTH_STYLE2       25469 non-null object\n",
      "U_BTH_STYLE3       6930 non-null object\n",
      "U_KITCH_TYPE       64044 non-null object\n",
      "U_KITCH_STYLE      64044 non-null object\n",
      "U_HEAT_TYP         64044 non-null object\n",
      "U_AC               64044 non-null object\n",
      "U_FPLACE           64044 non-null float64\n",
      "U_INT_FIN          64044 non-null object\n",
      "U_INT_CND          64044 non-null object\n",
      "U_VIEW             64044 non-null object\n",
      "dtypes: float64(24), int64(7), object(44)\n",
      "memory usage: 99.9+ MB\n"
     ]
    }
   ],
   "source": [
    "# Check to see if all attributes and records were read.\n",
    "print('Number of records:')\n",
    "print(data.shape[0])\n",
    "print('Number of attributes:')\n",
    "print(data.shape[1])\n",
    "\n",
    "# Print the top 5 records to validate data has been read correctly.\n",
    "print(data.head())\n",
    "print(\"Datatype and variable information\")\n",
    "data.info()"
   ]
  },
  {
   "cell_type": "code",
   "execution_count": 6,
   "metadata": {},
   "outputs": [
    {
     "name": "stdout",
     "output_type": "stream",
     "text": [
      "Number of records:\n",
      "30568\n",
      "Number of attributes:\n",
      "75\n",
      "           PID  CM_ID     GIS_ID  ST_NUM    ST_NAME ST_NAME_SUF UNIT_NUM  \\\n",
      "25   502555000    NaN  502555000       2     BEAVER          ST      NaN   \n",
      "80   100021000    NaN  100021000  243 HF  LEXINGTON          ST      NaN   \n",
      "86   100027000    NaN  100027000      33   PRESCOTT          ST      NaN   \n",
      "92   100033000    NaN  100033000     246  PRINCETON          ST      NaN   \n",
      "101  100041000    NaN  100041000     224  PRINCETON          ST      NaN   \n",
      "\n",
      "     ZIPCODE  PTYPE  LU   ...   U_BTH_STYLE2 U_BTH_STYLE3 U_KITCH_TYPE  \\\n",
      "25    2108.0    101  R1   ...            NaN          NaN          NaN   \n",
      "80    2128.0    101  R1   ...            NaN          NaN          NaN   \n",
      "86    2128.0    101  R1   ...            NaN          NaN          NaN   \n",
      "92    2128.0    101  R1   ...            NaN          NaN          NaN   \n",
      "101   2128.0    101  R1   ...            NaN          NaN          NaN   \n",
      "\n",
      "    U_KITCH_STYLE U_HEAT_TYP U_AC  U_FPLACE  U_INT_FIN  U_INT_CND  U_VIEW  \n",
      "25            NaN        NaN  NaN       NaN        NaN        NaN     NaN  \n",
      "80            NaN        NaN  NaN       NaN        NaN        NaN     NaN  \n",
      "86            NaN        NaN  NaN       NaN        NaN        NaN     NaN  \n",
      "92            NaN        NaN  NaN       NaN        NaN        NaN     NaN  \n",
      "101           NaN        NaN  NaN       NaN        NaN        NaN     NaN  \n",
      "\n",
      "[5 rows x 75 columns]\n"
     ]
    }
   ],
   "source": [
    "# Filter Single family homes using property type, PTYPE, 101.\n",
    "sfhomes = data[data['PTYPE']== 101]\n",
    "print('Number of records:')\n",
    "print(sfhomes.shape[0])\n",
    "print('Number of attributes:')\n",
    "print(sfhomes.shape[1])\n",
    "print(sfhomes.head())"
   ]
  },
  {
   "cell_type": "code",
   "execution_count": 7,
   "metadata": {},
   "outputs": [
    {
     "name": "stdout",
     "output_type": "stream",
     "text": [
      "UNIT_NUM\n",
      "S_NUM_BLDG\n",
      "S_BLDG_STYL\n",
      "S_UNIT_RES\n",
      "S_UNIT_COM\n",
      "S_UNIT_RC\n",
      "S_EXT_FIN\n",
      "S_EXT_CND\n",
      "U_BASE_FLOOR\n",
      "U_NUM_PARK\n",
      "U_CORNER\n",
      "U_ORIENT\n",
      "U_TOT_RMS\n",
      "U_BDRMS\n",
      "U_FULL_BTH\n",
      "U_HALF_BTH\n",
      "U_BTH_STYLE\n",
      "U_BTH_STYLE2\n",
      "U_BTH_STYLE3\n",
      "U_KITCH_TYPE\n",
      "U_KITCH_STYLE\n",
      "U_HEAT_TYP\n",
      "U_AC\n",
      "U_FPLACE\n",
      "U_INT_FIN\n",
      "U_INT_CND\n",
      "U_VIEW\n",
      "There are  27  rows with all missing values\n"
     ]
    }
   ],
   "source": [
    "# Identify columns with all missing values. These columns will need to be dropped.\n",
    "count = 0\n",
    "for i in sfhomes:\n",
    "    if sfhomes[i].count() == 0:\n",
    "        print(i)\n",
    "        count = count +1\n",
    "print (\"There are \",count, \" rows with all missing values\")"
   ]
  },
  {
   "cell_type": "code",
   "execution_count": 8,
   "metadata": {},
   "outputs": [],
   "source": [
    "## Drop 27 rows with all missing values:\n",
    "sfhomes=sfhomes.dropna(axis=1, how='all',  inplace=False)"
   ]
  },
  {
   "cell_type": "code",
   "execution_count": 9,
   "metadata": {},
   "outputs": [
    {
     "name": "stdout",
     "output_type": "stream",
     "text": [
      "Number of records:\n",
      "30568\n",
      "Number of attributes:\n",
      "48\n"
     ]
    }
   ],
   "source": [
    "# Check the number of rows to verify non single family homes were dropped.\n",
    "print('Number of records:')\n",
    "print(sfhomes.shape[0])\n",
    "print('Number of attributes:')\n",
    "print(sfhomes.shape[1])\n"
   ]
  },
  {
   "cell_type": "code",
   "execution_count": 10,
   "metadata": {},
   "outputs": [
    {
     "name": "stdout",
     "output_type": "stream",
     "text": [
      "Number of records:\n",
      "30568\n",
      "Number of attributes:\n",
      "36\n"
     ]
    }
   ],
   "source": [
    "# Drop Columns that don't provide valuable information to the model, such as street name.\n",
    "sfhomes.drop(['CM_ID','GIS_ID', 'ST_NAME_SUF','PID','ST_NUM','ST_NAME','OWNER','OWN_OCC','MAIL_ADDRESSEE','MAIL_ADDRESS',\n",
    "              'MAIL CS','MAIL_ZIPCODE'], axis=1, inplace = True)\n",
    "\n",
    "# Verify columns were dropped and records remain the same.\n",
    "print('Number of records:')\n",
    "print(sfhomes.shape[0])\n",
    "print('Number of attributes:')\n",
    "print(sfhomes.shape[1])"
   ]
  },
  {
   "cell_type": "markdown",
   "metadata": {},
   "source": [
    "## 2. Explore\n",
    "### -- Looking for data issues & relationships among the attributes\n",
    "####        - Missing Value Imputation "
   ]
  },
  {
   "cell_type": "code",
   "execution_count": 11,
   "metadata": {},
   "outputs": [
    {
     "name": "stdout",
     "output_type": "stream",
     "text": [
      "LAND_SF   9\n",
      "YR_REMOD   1715\n",
      "STRUCTURE_CLASS   365\n",
      "R_BTH_STYLE2   7895\n",
      "R_BTH_STYLE3   24007\n",
      "R_KITCH_STYLE2   29630\n",
      "R_KITCH_STYLE3   30544\n"
     ]
    }
   ],
   "source": [
    "# Indetify columns with any missing values.\n",
    "for i in sfhomes:\n",
    "    if sfhomes[i].count() < sfhomes.shape[0]:\n",
    "        print(i, \" \",sfhomes.shape[0]- sfhomes[i].count())"
   ]
  },
  {
   "cell_type": "code",
   "execution_count": 12,
   "metadata": {},
   "outputs": [
    {
     "name": "stdout",
     "output_type": "stream",
     "text": [
      "Count of missing values in LAND_SF\n",
      "9\n",
      "Count of missing values in LAND_SF after imputing\n",
      "0\n"
     ]
    }
   ],
   "source": [
    "# Count missing values for LAND_SF\n",
    "print('Count of missing values in LAND_SF')\n",
    "print(np.count_nonzero(sfhomes['LAND_SF'].isnull()))\n",
    "\n",
    "# Calculate the mean of LAND_SF to impute missing values.\n",
    "sfhomes['LAND_SF'].mean()\n",
    "\n",
    "# Impute missing values with mean.\n",
    "sfhomes['LAND_SF'].fillna(sfhomes['LAND_SF'].mean(), inplace=True)\n",
    "\n",
    "# Verify missing values were imputed.\n",
    "print('Count of missing values in LAND_SF after imputing')\n",
    "print(np.count_nonzero(sfhomes['LAND_SF'].isnull()))"
   ]
  },
  {
   "cell_type": "code",
   "execution_count": 13,
   "metadata": {},
   "outputs": [
    {
     "name": "stdout",
     "output_type": "stream",
     "text": [
      "Count of missing values in STRUCTURE_CLASS \n",
      "365\n",
      "Mode:  0    R\n",
      "dtype: object\n",
      "\n",
      "Count of missing values in STRUCTURE_CLASS after imputing\n",
      "0\n"
     ]
    }
   ],
   "source": [
    "# Identify number of missing values and the mode for Structure_Class\n",
    "print('Count of missing values in STRUCTURE_CLASS ')\n",
    "print(np.count_nonzero(sfhomes['STRUCTURE_CLASS'].isnull()))\n",
    "print(\"Mode: \" , sfhomes['STRUCTURE_CLASS'].mode())\n",
    "print()\n",
    "\n",
    "# Convert structure class into category and impute missing value with Mode.\n",
    "sfhomes['STRUCTURE_CLASS']=sfhomes['STRUCTURE_CLASS'].astype('category')\n",
    "sfhomes['STRUCTURE_CLASS'].fillna(sfhomes['STRUCTURE_CLASS'].value_counts().index[0], inplace=True)\n",
    "\n",
    "# Verify all missing values were imputed with the mode.\n",
    "print('Count of missing values in STRUCTURE_CLASS after imputing')\n",
    "print(np.count_nonzero(sfhomes['STRUCTURE_CLASS'].isnull()))"
   ]
  },
  {
   "cell_type": "code",
   "execution_count": 14,
   "metadata": {},
   "outputs": [
    {
     "name": "stdout",
     "output_type": "stream",
     "text": [
      "Count of missing values in YR_REMOD \n",
      "1715\n",
      "Count of missing values in YR_REMOD after imputing missing values: \n",
      "0\n",
      "Count of missing values in YR_REMOD after imputing missing and zeros: \n",
      "0\n"
     ]
    }
   ],
   "source": [
    "#### Impute missing values and '0' values in YR_REMOD with values in YR_BUILT Column\n",
    "\n",
    "# Count number of missing values\n",
    "print('Count of missing values in YR_REMOD ')\n",
    "print(np.count_nonzero(sfhomes['YR_REMOD'].isnull()))\n",
    "\n",
    "# Replace missing values with year built values\n",
    "sfhomes['YR_REMOD'].fillna(sfhomes['YR_BUILT'],inplace=True)\n",
    "\n",
    "print('Count of missing values in YR_REMOD after imputing missing values: ')\n",
    "print(np.count_nonzero(sfhomes['YR_REMOD'].isnull()))\n",
    "\n",
    "# Replace year value '0' with YR_BUILT value\n",
    "sfhomes['YR_REMOD'].replace(0,sfhomes['YR_BUILT'], inplace = True)\n",
    "\n",
    "print('Count of missing values in YR_REMOD after imputing missing and zeros: ')\n",
    "print(np.count_nonzero(sfhomes['YR_REMOD'].isnull()))"
   ]
  },
  {
   "cell_type": "code",
   "execution_count": 15,
   "metadata": {},
   "outputs": [
    {
     "name": "stdout",
     "output_type": "stream",
     "text": [
      "R_BTH_STYLE2   7895\n",
      "R_BTH_STYLE3   24007\n",
      "R_KITCH_STYLE2   29630\n",
      "R_KITCH_STYLE3   30544\n"
     ]
    }
   ],
   "source": [
    "# Indetify columns with any missing values.\n",
    "for i in sfhomes:\n",
    "    if sfhomes[i].count() < sfhomes.shape[0]:\n",
    "        print(i, \" \",sfhomes.shape[0]- sfhomes[i].count())"
   ]
  },
  {
   "cell_type": "code",
   "execution_count": 16,
   "metadata": {},
   "outputs": [
    {
     "name": "stdout",
     "output_type": "stream",
     "text": [
      "     R_FULL_BTH  R_HALF_BTH R_BTH_STYLE2\n",
      "25          1.0         0.0          NaN\n",
      "80          1.0         0.0          NaN\n",
      "86          1.0         1.0            S\n",
      "92          1.0         1.0            M\n",
      "112         1.0         1.0            N\n",
      "\n",
      "Count of missing values in R_BTH_STYLE2\n",
      "0\n"
     ]
    }
   ],
   "source": [
    "# Investigate R_BTH_STYLE2 missing values and replace them with N/A\n",
    "\n",
    "# Check records to see if Half baths are considered in the style columns\n",
    "sfhomes_baths = sfhomes[sfhomes['R_FULL_BTH']== 1][['R_FULL_BTH','R_HALF_BTH','R_BTH_STYLE2']]\n",
    "print(sfhomes_baths.head())\n",
    "\n",
    "# Calculate total number of baths (full and half)\n",
    "sfhomes['TOTAL_BATHS'] = sfhomes['R_FULL_BTH'] + sfhomes['R_HALF_BTH']\n",
    "\n",
    "sfhomes['R_BTH_STYLE2'] = np.where((sfhomes['TOTAL_BATHS'] <2), 'N/A', sfhomes['R_BTH_STYLE2'])\n",
    "\n",
    "# Check for missing values\n",
    "print()\n",
    "print('Count of missing values in R_BTH_STYLE2')\n",
    "print(np.count_nonzero(sfhomes['R_BTH_STYLE2'].isnull()))"
   ]
  },
  {
   "cell_type": "code",
   "execution_count": 17,
   "metadata": {},
   "outputs": [
    {
     "name": "stdout",
     "output_type": "stream",
     "text": [
      "Count of missing values in R_BTH_STYLE3\n",
      "0\n"
     ]
    }
   ],
   "source": [
    "### Investigate R_BTH_STYLE3 missing values and replace them with N/A\n",
    "sfhomes['R_BTH_STYLE3'] = np.where((sfhomes['TOTAL_BATHS'] <3), 'N/A', sfhomes['R_BTH_STYLE3'])\n",
    "\n",
    "# Check for missing values\n",
    "print('Count of missing values in R_BTH_STYLE3')\n",
    "print(np.count_nonzero(sfhomes['R_BTH_STYLE3'].isnull()))"
   ]
  },
  {
   "cell_type": "code",
   "execution_count": 18,
   "metadata": {},
   "outputs": [
    {
     "name": "stdout",
     "output_type": "stream",
     "text": [
      "Count of missing values in R_KITCH_STYLE2\n",
      "0\n",
      "Count of missing values in R_KITCH_STYLE3\n",
      "0\n"
     ]
    }
   ],
   "source": [
    "# Investigate R_KITH_STYLE2 and R_KITH_STYLE3  missing values and replace them with N/A\n",
    "\n",
    "# Make missing values N/A if record doesn't meet criteria specified.\n",
    "sfhomes['R_KITCH_STYLE2'] = np.where((sfhomes['R_KITCH'] <2), 'N/A', sfhomes['R_KITCH_STYLE2'])\n",
    "sfhomes['R_KITCH_STYLE3'] = np.where((sfhomes['R_KITCH'] <3), 'N/A', sfhomes['R_KITCH_STYLE3'])\n",
    "\n",
    "# Check for missing values in R_KITH_STYLE2 and R_KITH_STYLE3\n",
    "print('Count of missing values in R_KITCH_STYLE2')\n",
    "print(np.count_nonzero(sfhomes['R_KITCH_STYLE2'].isnull()))\n",
    "print('Count of missing values in R_KITCH_STYLE3')\n",
    "print(np.count_nonzero(sfhomes['R_KITCH_STYLE3'].isnull()))"
   ]
  },
  {
   "cell_type": "code",
   "execution_count": 19,
   "metadata": {},
   "outputs": [
    {
     "name": "stdout",
     "output_type": "stream",
     "text": [
      "Number of Missing Values in colums\n",
      "No missing values  -  ZIPCODE\n",
      "No missing values  -  PTYPE\n",
      "No missing values  -  LU\n",
      "No missing values  -  AV_LAND\n",
      "No missing values  -  AV_BLDG\n",
      "No missing values  -  AV_TOTAL\n",
      "No missing values  -  GROSS_TAX\n",
      "No missing values  -  LAND_SF\n",
      "No missing values  -  YR_BUILT\n",
      "No missing values  -  YR_REMOD\n",
      "No missing values  -  GROSS_AREA\n",
      "No missing values  -  LIVING_AREA\n",
      "No missing values  -  NUM_FLOORS\n",
      "No missing values  -  STRUCTURE_CLASS\n",
      "No missing values  -  R_BLDG_STYL\n",
      "No missing values  -  R_ROOF_TYP\n",
      "No missing values  -  R_EXT_FIN\n",
      "No missing values  -  R_TOTAL_RMS\n",
      "No missing values  -  R_BDRMS\n",
      "No missing values  -  R_FULL_BTH\n",
      "No missing values  -  R_HALF_BTH\n",
      "No missing values  -  R_BTH_STYLE\n",
      "No missing values  -  R_BTH_STYLE2\n",
      "No missing values  -  R_BTH_STYLE3\n",
      "No missing values  -  R_KITCH\n",
      "No missing values  -  R_KITCH_STYLE\n",
      "No missing values  -  R_KITCH_STYLE2\n",
      "No missing values  -  R_KITCH_STYLE3\n",
      "No missing values  -  R_HEAT_TYP\n",
      "No missing values  -  R_AC\n",
      "No missing values  -  R_FPLACE\n",
      "No missing values  -  R_EXT_CND\n",
      "No missing values  -  R_OVRALL_CND\n",
      "No missing values  -  R_INT_CND\n",
      "No missing values  -  R_INT_FIN\n",
      "No missing values  -  R_VIEW\n",
      "No missing values  -  TOTAL_BATHS\n"
     ]
    }
   ],
   "source": [
    "# Final check for missing values\n",
    "print(\"Number of Missing Values in colums\")\n",
    "for i in sfhomes:\n",
    "    if sfhomes[i].count() < sfhomes.shape[0]:\n",
    "        print(sfhomes.shape[0]-sfhomes[i].count(), \" \", i )\n",
    "    else:\n",
    "        print('No missing values', \" - \", i)"
   ]
  },
  {
   "cell_type": "markdown",
   "metadata": {},
   "source": [
    "## 3.0 Modify\n",
    "### -- Attribute Encoding\n",
    "### -- Transform data/ create new attributes.\n",
    "### -- Partition data into training & assessment\n"
   ]
  },
  {
   "cell_type": "code",
   "execution_count": 20,
   "metadata": {},
   "outputs": [
    {
     "data": {
      "text/plain": [
       "<Figure size 1224x720 with 0 Axes>"
      ]
     },
     "metadata": {},
     "output_type": "display_data"
    },
    {
     "data": {
      "image/png": "[encoded data removed]",
      "text/plain": [
       "<Figure size 432x288 with 1 Axes>"
      ]
     },
     "metadata": {},
     "output_type": "display_data"
    },
    {
     "data": {
      "text/plain": [
       "<Figure size 1224x720 with 0 Axes>"
      ]
     },
     "metadata": {},
     "output_type": "display_data"
    },
    {
     "data": {
      "image/png": "[encoded data removed]",
      "text/plain": [
       "<Figure size 432x288 with 1 Axes>"
      ]
     },
     "metadata": {},
     "output_type": "display_data"
    }
   ],
   "source": [
    "# Plot regular AV_Total\n",
    "AV_TOTAL =plt.figure(figsize=(17,10))\n",
    "sfhomes.hist(column='AV_TOTAL')\n",
    "plt.xlabel(\"Assessed Value\",fontsize=15)\n",
    "plt.ylabel(\"Frequency\",fontsize=15)\n",
    "plt.show()\n",
    "\n",
    "#### 1. logTotal - AV_Total is not normal. It has to be Log transformed.\n",
    "sfhomes[\"logTotal\"] = np.log(sfhomes['AV_TOTAL'])\n",
    "\n",
    "# Plot logged AV_Total\n",
    "logTotal =plt.figure(figsize=(17,10))\n",
    "sfhomes.hist(column='logTotal')\n",
    "plt.xlabel(\"Assessed Value\",fontsize=15)\n",
    "plt.ylabel(\"Frequency\",fontsize=15)\n",
    "plt.show()"
   ]
  },
  {
   "cell_type": "code",
   "execution_count": 21,
   "metadata": {},
   "outputs": [
    {
     "name": "stdout",
     "output_type": "stream",
     "text": [
      "Age calculation for the top 5 records:\n"
     ]
    },
    {
     "data": {
      "text/plain": [
       "25     120.0\n",
       "80     110.0\n",
       "86     120.0\n",
       "92     100.0\n",
       "101    120.0\n",
       "Name: Age, dtype: float64"
      ]
     },
     "execution_count": 21,
     "metadata": {},
     "output_type": "execute_result"
    }
   ],
   "source": [
    "# Age - Calculate age of home\n",
    "t1 = datetime.now()\n",
    "sfhomes['Age'] = t1.year - sfhomes['YR_BUILT']\n",
    "\n",
    "#Display values to verify calculation was sucessful\n",
    "print(\"Age calculation for the top 5 records:\")\n",
    "sfhomes['Age'].head()"
   ]
  },
  {
   "cell_type": "code",
   "execution_count": 22,
   "metadata": {},
   "outputs": [
    {
     "name": "stdout",
     "output_type": "stream",
     "text": [
      "Years Since Remodeled calculation for the top 5 records:\n",
      "25      27.0\n",
      "80      55.0\n",
      "86      40.0\n",
      "92     100.0\n",
      "101    120.0\n",
      "Name: YR_SINCE_REMOD, dtype: float64\n"
     ]
    },
    {
     "data": {
      "text/plain": [
       "ZIPCODE             float64\n",
       "PTYPE                 int64\n",
       "LU                   object\n",
       "AV_LAND               int64\n",
       "AV_BLDG               int64\n",
       "AV_TOTAL              int64\n",
       "GROSS_TAX             int64\n",
       "LAND_SF             float64\n",
       "YR_BUILT            float64\n",
       "YR_REMOD            float64\n",
       "GROSS_AREA          float64\n",
       "LIVING_AREA         float64\n",
       "NUM_FLOORS          float64\n",
       "STRUCTURE_CLASS    category\n",
       "R_BLDG_STYL          object\n",
       "R_ROOF_TYP           object\n",
       "R_EXT_FIN            object\n",
       "R_TOTAL_RMS         float64\n",
       "R_BDRMS             float64\n",
       "R_FULL_BTH          float64\n",
       "R_HALF_BTH          float64\n",
       "R_BTH_STYLE          object\n",
       "R_BTH_STYLE2         object\n",
       "R_BTH_STYLE3         object\n",
       "R_KITCH             float64\n",
       "R_KITCH_STYLE        object\n",
       "R_KITCH_STYLE2       object\n",
       "R_KITCH_STYLE3       object\n",
       "R_HEAT_TYP           object\n",
       "R_AC                 object\n",
       "R_FPLACE            float64\n",
       "R_EXT_CND            object\n",
       "R_OVRALL_CND         object\n",
       "R_INT_CND            object\n",
       "R_INT_FIN            object\n",
       "R_VIEW               object\n",
       "TOTAL_BATHS         float64\n",
       "logTotal            float64\n",
       "Age                 float64\n",
       "YR_SINCE_REMOD      float64\n",
       "dtype: object"
      ]
     },
     "execution_count": 22,
     "metadata": {},
     "output_type": "execute_result"
    }
   ],
   "source": [
    "# Calculate number of years since last remodeled.\n",
    "sfhomes['YR_SINCE_REMOD'] = t1.year - sfhomes['YR_REMOD']\n",
    "print(\"Years Since Remodeled calculation for the top 5 records:\")\n",
    "print(sfhomes['YR_SINCE_REMOD'].head())\n",
    "\n",
    "# Verify columns were added to dataframe\n",
    "sfhomes.dtypes"
   ]
  },
  {
   "cell_type": "code",
   "execution_count": 23,
   "metadata": {},
   "outputs": [],
   "source": [
    "# Drop Columns Not required for analysis due to leakage variables or duplicate information\n",
    "sfhomes.drop(['PTYPE', 'LU','YR_BUILT','YR_REMOD','TOTAL_BATHS','GROSS_TAX','AV_BLDG','AV_LAND' ],axis=1, inplace = True)"
   ]
  },
  {
   "cell_type": "code",
   "execution_count": 24,
   "metadata": {},
   "outputs": [],
   "source": [
    "# Create excel file with cleaned and useful modeling columns\n",
    "sfhomes.to_csv(\"cleaned_sfhomes.csv\", sep=',')"
   ]
  },
  {
   "cell_type": "code",
   "execution_count": 25,
   "metadata": {},
   "outputs": [
    {
     "name": "stdout",
     "output_type": "stream",
     "text": [
      "Number of records:\n",
      "30568\n",
      "Number of attributes:\n",
      "160\n"
     ]
    },
    {
     "data": {
      "text/html": [
       "<div>\n",
       "<style scoped>\n",
       "    .dataframe tbody tr th:only-of-type {\n",
       "        vertical-align: middle;\n",
       "    }\n",
       "\n",
       "    .dataframe tbody tr th {\n",
       "        vertical-align: top;\n",
       "    }\n",
       "\n",
       "    .dataframe thead th {\n",
       "        text-align: right;\n",
       "    }\n",
       "</style>\n",
       "<table border=\"1\" class=\"dataframe\">\n",
       "  <thead>\n",
       "    <tr style=\"text-align: right;\">\n",
       "      <th></th>\n",
       "      <th>AV_TOTAL</th>\n",
       "      <th>LAND_SF</th>\n",
       "      <th>GROSS_AREA</th>\n",
       "      <th>LIVING_AREA</th>\n",
       "      <th>NUM_FLOORS</th>\n",
       "      <th>R_TOTAL_RMS</th>\n",
       "      <th>R_BDRMS</th>\n",
       "      <th>R_FULL_BTH</th>\n",
       "      <th>R_HALF_BTH</th>\n",
       "      <th>logTotal</th>\n",
       "      <th>...</th>\n",
       "      <th>R_INT_CND_G</th>\n",
       "      <th>R_INT_CND_P</th>\n",
       "      <th>R_INT_FIN_E</th>\n",
       "      <th>R_INT_FIN_N</th>\n",
       "      <th>R_INT_FIN_S</th>\n",
       "      <th>R_VIEW_A</th>\n",
       "      <th>R_VIEW_E</th>\n",
       "      <th>R_VIEW_F</th>\n",
       "      <th>R_VIEW_G</th>\n",
       "      <th>R_VIEW_P</th>\n",
       "    </tr>\n",
       "  </thead>\n",
       "  <tbody>\n",
       "    <tr>\n",
       "      <th>25</th>\n",
       "      <td>2678800</td>\n",
       "      <td>1225.0</td>\n",
       "      <td>2016.0</td>\n",
       "      <td>1478.0</td>\n",
       "      <td>2.0</td>\n",
       "      <td>5.0</td>\n",
       "      <td>2.0</td>\n",
       "      <td>1.0</td>\n",
       "      <td>0.0</td>\n",
       "      <td>14.800879</td>\n",
       "      <td>...</td>\n",
       "      <td>1</td>\n",
       "      <td>0</td>\n",
       "      <td>0</td>\n",
       "      <td>1</td>\n",
       "      <td>0</td>\n",
       "      <td>1</td>\n",
       "      <td>0</td>\n",
       "      <td>0</td>\n",
       "      <td>0</td>\n",
       "      <td>0</td>\n",
       "    </tr>\n",
       "    <tr>\n",
       "      <th>80</th>\n",
       "      <td>234500</td>\n",
       "      <td>1238.0</td>\n",
       "      <td>1836.0</td>\n",
       "      <td>1122.0</td>\n",
       "      <td>2.0</td>\n",
       "      <td>5.0</td>\n",
       "      <td>3.0</td>\n",
       "      <td>1.0</td>\n",
       "      <td>0.0</td>\n",
       "      <td>12.365211</td>\n",
       "      <td>...</td>\n",
       "      <td>0</td>\n",
       "      <td>0</td>\n",
       "      <td>0</td>\n",
       "      <td>1</td>\n",
       "      <td>0</td>\n",
       "      <td>0</td>\n",
       "      <td>0</td>\n",
       "      <td>1</td>\n",
       "      <td>0</td>\n",
       "      <td>0</td>\n",
       "    </tr>\n",
       "    <tr>\n",
       "      <th>86</th>\n",
       "      <td>375800</td>\n",
       "      <td>1650.0</td>\n",
       "      <td>3076.0</td>\n",
       "      <td>1968.0</td>\n",
       "      <td>2.0</td>\n",
       "      <td>8.0</td>\n",
       "      <td>4.0</td>\n",
       "      <td>1.0</td>\n",
       "      <td>1.0</td>\n",
       "      <td>12.836812</td>\n",
       "      <td>...</td>\n",
       "      <td>0</td>\n",
       "      <td>0</td>\n",
       "      <td>0</td>\n",
       "      <td>1</td>\n",
       "      <td>0</td>\n",
       "      <td>1</td>\n",
       "      <td>0</td>\n",
       "      <td>0</td>\n",
       "      <td>0</td>\n",
       "      <td>0</td>\n",
       "    </tr>\n",
       "    <tr>\n",
       "      <th>92</th>\n",
       "      <td>371500</td>\n",
       "      <td>2500.0</td>\n",
       "      <td>2079.0</td>\n",
       "      <td>1111.0</td>\n",
       "      <td>1.5</td>\n",
       "      <td>9.0</td>\n",
       "      <td>4.0</td>\n",
       "      <td>1.0</td>\n",
       "      <td>1.0</td>\n",
       "      <td>12.825304</td>\n",
       "      <td>...</td>\n",
       "      <td>0</td>\n",
       "      <td>0</td>\n",
       "      <td>0</td>\n",
       "      <td>1</td>\n",
       "      <td>0</td>\n",
       "      <td>1</td>\n",
       "      <td>0</td>\n",
       "      <td>0</td>\n",
       "      <td>0</td>\n",
       "      <td>0</td>\n",
       "    </tr>\n",
       "    <tr>\n",
       "      <th>101</th>\n",
       "      <td>392000</td>\n",
       "      <td>2500.0</td>\n",
       "      <td>2167.0</td>\n",
       "      <td>1146.0</td>\n",
       "      <td>1.5</td>\n",
       "      <td>8.0</td>\n",
       "      <td>4.0</td>\n",
       "      <td>2.0</td>\n",
       "      <td>0.0</td>\n",
       "      <td>12.879017</td>\n",
       "      <td>...</td>\n",
       "      <td>0</td>\n",
       "      <td>0</td>\n",
       "      <td>0</td>\n",
       "      <td>1</td>\n",
       "      <td>0</td>\n",
       "      <td>1</td>\n",
       "      <td>0</td>\n",
       "      <td>0</td>\n",
       "      <td>0</td>\n",
       "      <td>0</td>\n",
       "    </tr>\n",
       "  </tbody>\n",
       "</table>\n",
       "<p>5 rows × 160 columns</p>\n",
       "</div>"
      ],
      "text/plain": [
       "     AV_TOTAL  LAND_SF  GROSS_AREA  LIVING_AREA  NUM_FLOORS  R_TOTAL_RMS  \\\n",
       "25    2678800   1225.0      2016.0       1478.0         2.0          5.0   \n",
       "80     234500   1238.0      1836.0       1122.0         2.0          5.0   \n",
       "86     375800   1650.0      3076.0       1968.0         2.0          8.0   \n",
       "92     371500   2500.0      2079.0       1111.0         1.5          9.0   \n",
       "101    392000   2500.0      2167.0       1146.0         1.5          8.0   \n",
       "\n",
       "     R_BDRMS  R_FULL_BTH  R_HALF_BTH   logTotal    ...     R_INT_CND_G  \\\n",
       "25       2.0         1.0         0.0  14.800879    ...               1   \n",
       "80       3.0         1.0         0.0  12.365211    ...               0   \n",
       "86       4.0         1.0         1.0  12.836812    ...               0   \n",
       "92       4.0         1.0         1.0  12.825304    ...               0   \n",
       "101      4.0         2.0         0.0  12.879017    ...               0   \n",
       "\n",
       "     R_INT_CND_P  R_INT_FIN_E  R_INT_FIN_N  R_INT_FIN_S  R_VIEW_A  R_VIEW_E  \\\n",
       "25             0            0            1            0         1         0   \n",
       "80             0            0            1            0         0         0   \n",
       "86             0            0            1            0         1         0   \n",
       "92             0            0            1            0         1         0   \n",
       "101            0            0            1            0         1         0   \n",
       "\n",
       "     R_VIEW_F  R_VIEW_G  R_VIEW_P  \n",
       "25          0         0         0  \n",
       "80          1         0         0  \n",
       "86          0         0         0  \n",
       "92          0         0         0  \n",
       "101         0         0         0  \n",
       "\n",
       "[5 rows x 160 columns]"
      ]
     },
     "execution_count": 25,
     "metadata": {},
     "output_type": "execute_result"
    }
   ],
   "source": [
    "# Use one-hot to encode categorical variables\n",
    "sfhomes_model = pd.get_dummies(sfhomes, columns=['ZIPCODE','STRUCTURE_CLASS', 'R_BLDG_STYL', 'R_ROOF_TYP',\n",
    "                                                   'R_EXT_FIN','R_BTH_STYLE', 'R_BTH_STYLE2', 'R_BTH_STYLE3', \n",
    "                                                   'R_KITCH', 'R_KITCH_STYLE','R_KITCH_STYLE2', 'R_KITCH_STYLE3', \n",
    "                                                   'R_HEAT_TYP', 'R_AC', 'R_FPLACE','R_EXT_CND', 'R_OVRALL_CND', \n",
    "                                                    'R_INT_CND', 'R_INT_FIN', \n",
    "                                                   'R_VIEW'], drop_first=False)\n",
    "\n",
    "# Verify columns were created and old variables were dropped.\n",
    "print('Number of records:')\n",
    "print(sfhomes_model.shape[0])\n",
    "print('Number of attributes:')\n",
    "print(sfhomes_model.shape[1])\n",
    "sfhomes_model.head()"
   ]
  },
  {
   "cell_type": "code",
   "execution_count": 26,
   "metadata": {},
   "outputs": [],
   "source": [
    "# Get list of predictor names for future use in plots and results table.\n",
    "names = list(sfhomes_model.drop(['logTotal', 'AV_TOTAL'],axis =1))\n",
    "namesdf = sfhomes_model.drop(['logTotal', 'AV_TOTAL'],axis =1)\n",
    "\n",
    "# Convert Pandas dataframe into numpy arrays so we can use scikit-learn Random Forest and linear regression\n",
    "\n",
    "# Set numpy array for predictors\n",
    "x =np.asarray(sfhomes_model.drop(['logTotal', 'AV_TOTAL'],axis =1))\n",
    "# Set Target varialbe\n",
    "y = np.asarray(sfhomes_model['logTotal'])\n",
    "\n",
    "# Create training and validation dataset using 70/30 split.\n",
    "X_train, X_validate, y_train, y_validate = train_test_split(x, y,test_size = 0.3, random_state=12345)"
   ]
  },
  {
   "cell_type": "markdown",
   "metadata": {},
   "source": [
    "## 4. Model\n"
   ]
  },
  {
   "cell_type": "markdown",
   "metadata": {},
   "source": [
    "###  Decision Tree Model"
   ]
  },
  {
   "cell_type": "code",
   "execution_count": 27,
   "metadata": {},
   "outputs": [
    {
     "name": "stdout",
     "output_type": "stream",
     "text": [
      "max_depth= 3\n",
      "Metric.......           Mean    Std. Dev.\n",
      "neg_mean_squared_error-0.1054    0.0028\n",
      "neg_mean_absolute_error-0.2437    0.0057\n",
      "max_depth= 5\n",
      "Metric.......           Mean    Std. Dev.\n",
      "neg_mean_squared_error-0.0781    0.0018\n",
      "neg_mean_absolute_error-0.2068    0.0034\n",
      "max_depth= 7\n",
      "Metric.......           Mean    Std. Dev.\n",
      "neg_mean_squared_error-0.0616    0.0024\n",
      "neg_mean_absolute_error-0.1805    0.0039\n",
      "\n",
      "Best Depth (trees)= 7\n"
     ]
    }
   ],
   "source": [
    "# Use crossvalidation to identify the best tree depth\n",
    "score_list = ['neg_mean_squared_error', 'neg_mean_absolute_error']\n",
    "search_depths = [3, 5, 7]\n",
    "mean_MSE = 1\n",
    "best_depth = 0\n",
    "for d in search_depths:\n",
    "    dtc = DecisionTreeRegressor( max_depth=d,min_samples_split=5, min_samples_leaf=5)\n",
    "    mean_score = []\n",
    "    std_score = []\n",
    "    print(\"max_depth=\", d)\n",
    "    print(\"{:.<13s}{:>15s}{:>13s}\".format(\"Metric\", \"Mean\", \"Std. Dev.\"))\n",
    "    for s in score_list:\n",
    "        dtc_10 = cross_val_score(dtc, X_train, y_train, scoring=s, cv=10)\n",
    "        mean = dtc_10.mean()\n",
    "        std = dtc_10.std()\n",
    "        mean_score.append(mean)\n",
    "        std_score.append(std)\n",
    "        print(\"{:.<13s}{:>7.4f}{:>10.4f}\".format(s, mean, std))\n",
    "        if s == 'neg_mean_absolute_error' and mean < mean_MSE:\n",
    "            max_MSE = mean\n",
    "            best_depth = d\n",
    "\n",
    "print(\"\\nBest Depth (trees)=\", best_depth)"
   ]
  },
  {
   "cell_type": "markdown",
   "metadata": {},
   "source": [
    "## 5. Assess"
   ]
  },
  {
   "cell_type": "code",
   "execution_count": 28,
   "metadata": {},
   "outputs": [],
   "source": [
    "dt = DecisionTreeRegressor(max_depth =best_depth,\\\n",
    "                            min_samples_split =5,\\\n",
    "                            min_samples_leaf=5)\n",
    "dt = dt.fit(X_train,y_train)\n",
    "\n",
    "\n",
    "# Predict values for Training and Validation datasets\n",
    "yd_tpred = dt.predict(X_train)\n",
    "yd_vpred = dt.predict(X_validate)"
   ]
  },
  {
   "cell_type": "code",
   "execution_count": 29,
   "metadata": {},
   "outputs": [],
   "source": [
    "    t_rf_r2 = r2_score(y_train, yd_tpred)\n",
    "    t_rf_mae = metrics.mean_absolute_error(y_train, yd_tpred)\n",
    "    t_rf_mse = metrics.mean_squared_error(y_train, yd_tpred)\n",
    "    t_rf_rmse = np.sqrt(metrics.mean_squared_error(y_train, yd_tpred))\n",
    "    \n",
    "    \n",
    "    v_rf_r2 = metrics.r2_score(y_validate, yd_vpred)\n",
    "    v_rf_mae = metrics.mean_absolute_error(y_validate, yd_vpred)\n",
    "    v_rf_mse = metrics.mean_squared_error(y_validate, yd_vpred)\n",
    "    v_rf_rmse = np.sqrt(metrics.mean_squared_error(y_validate, yd_vpred))"
   ]
  },
  {
   "cell_type": "code",
   "execution_count": 30,
   "metadata": {},
   "outputs": [
    {
     "name": "stdout",
     "output_type": "stream",
     "text": [
      "Decision Tree Results Results\n",
      "\n",
      "Training Results:\n",
      "R-Squared: 0.7735283548420895\n",
      "Mean Absolute Error: 0.17347371210719914\n",
      "Mean Squared Error: 0.05671945854420235\n",
      "Root Mean Squared Error: 0.2381584735931148\n",
      "\n",
      "Validation Results:\n",
      "R-Squared: 0.7489557404017184\n",
      "Mean Absolute Error: 0.18057911513497948\n",
      "Mean Squared Error: 0.06160905731883173\n",
      "Root Mean Squared Error: 0.24821171873791883\n"
     ]
    }
   ],
   "source": [
    "    print('%s Results' % 'Decision Tree Results')\n",
    "    print()\n",
    "    print('Training Results:')\n",
    "    print('R-Squared:',t_rf_r2)\n",
    "    print('Mean Absolute Error:', t_rf_mae)       \n",
    "    print('Mean Squared Error:', t_rf_mse)\n",
    "    print('Root Mean Squared Error:', t_rf_rmse )\n",
    "    \n",
    "    \n",
    "    print()\n",
    "    print('Validation Results:')\n",
    "    print('R-Squared:', v_rf_r2)\n",
    "    print('Mean Absolute Error:', v_rf_mae )  \n",
    "    print('Mean Squared Error:', v_rf_mse)  \n",
    "    print('Root Mean Squared Error:',v_rf_rmse )\n"
   ]
  },
  {
   "cell_type": "code",
   "execution_count": 31,
   "metadata": {},
   "outputs": [],
   "source": [
    "# Create a new dataframe with only independent variables. This will be used for printing coeficients\n",
    "sfhomes_model1 = sfhomes_model.drop(['logTotal','AV_TOTAL'], axis =1)"
   ]
  },
  {
   "cell_type": "code",
   "execution_count": 32,
   "metadata": {},
   "outputs": [],
   "source": [
    "# # Create pandas series containining the feature importance values idexed by the column/feature names\n",
    "temp2 = list(sfhomes_model1.columns)\n",
    "feat_importances = pd.Series(dt.feature_importances_, index= temp2)"
   ]
  },
  {
   "cell_type": "code",
   "execution_count": 33,
   "metadata": {},
   "outputs": [
    {
     "name": "stdout",
     "output_type": "stream",
     "text": [
      "Top 10 Most Important Features\n",
      "NUM_FLOORS          0.392877\n",
      "R_BTH_STYLE3_N/A    0.122800\n",
      "R_INT_FIN_E         0.119274\n",
      "LIVING_AREA         0.109785\n",
      "ZIPCODE_2130.0      0.049425\n",
      "R_EXT_FIN_B         0.046939\n",
      "ZIPCODE_2119.0      0.017690\n",
      "ZIPCODE_2136.0      0.017650\n",
      "GROSS_AREA          0.015136\n",
      "ZIPCODE_2127.0      0.014670\n",
      "dtype: float64\n"
     ]
    }
   ],
   "source": [
    "# Print values of top 10 most important features\n",
    "print('Top 10 Most Important Features')\n",
    "print(feat_importances.nlargest(10).sort_values(ascending=False))"
   ]
  },
  {
   "cell_type": "code",
   "execution_count": 34,
   "metadata": {},
   "outputs": [
    {
     "data": {
      "text/plain": [
       "<matplotlib.axes._subplots.AxesSubplot at 0x234af9085f8>"
      ]
     },
     "execution_count": 34,
     "metadata": {},
     "output_type": "execute_result"
    },
    {
     "data": {
      "image/png": "[encoded data removed]",
      "text/plain": [
       "<Figure size 432x288 with 1 Axes>"
      ]
     },
     "metadata": {},
     "output_type": "display_data"
    }
   ],
   "source": [
    "# Plot the 10 most important features\n",
    "feat_importances.nlargest(10).sort_values(ascending=True).plot(kind='barh', title='Top 10 Most Important Features')"
   ]
  },
  {
   "cell_type": "code",
   "execution_count": 35,
   "metadata": {
    "scrolled": false
   },
   "outputs": [
    {
     "data": {
      "image/png": "[encoded data removed]",
      "text/plain": [
       "<Figure size 432x288 with 1 Axes>"
      ]
     },
     "metadata": {},
     "output_type": "display_data"
    }
   ],
   "source": [
    "# Print Actuals vs predicted\n",
    "fig, ax = plt.subplots()\n",
    "ax.scatter(y_validate, yd_vpred)\n",
    "ax.plot([y_validate.min(), y_validate.max()], [y_validate.min(), y.max()], 'k--', lw=4)\n",
    "ax.set_xlabel('Actual')\n",
    "ax.set_ylabel('Predicted')\n",
    "plt.title('Predicted vs Actual Logged AV_Total')\n",
    "plt.show()"
   ]
  },
  {
   "cell_type": "code",
   "execution_count": 36,
   "metadata": {},
   "outputs": [],
   "source": [
    "# Libraries to Print Decision Tree\n",
    "from sklearn.tree import export_graphviz\n",
    "import graphviz\n",
    "from pydotplus.graphviz import graph_from_dot_data"
   ]
  },
  {
   "cell_type": "code",
   "execution_count": 37,
   "metadata": {},
   "outputs": [
    {
     "name": "stdout",
     "output_type": "stream",
     "text": [
      "<pydotplus.graphviz.Dot object at 0x00000234BA6F5438>\n"
     ]
    }
   ],
   "source": [
    "## Print out the decision tree model in PDF\n",
    "dot_data = export_graphviz(dt, filled = True, rounded = True, \\\n",
    "                      feature_names = temp2,\\\n",
    "                          \n",
    "                          out_file = None)\n",
    "\n",
    "\n",
    "\n",
    "graph = graph_from_dot_data(dot_data)\n",
    "graph_pdf = graphviz.Source(dot_data) \n",
    "graph_pdf.view(\"tree\")\n",
    "print(graph)"
   ]
  }
 ],
 "metadata": {
  "kernelspec": {
   "display_name": "Python 3",
   "language": "python",
   "name": "python3"
  },
  "language_info": {
   "codemirror_mode": {
    "name": "ipython",
    "version": 3
   },
   "file_extension": ".py",
   "mimetype": "text/x-python",
   "name": "python",
   "nbconvert_exporter": "python",
   "pygments_lexer": "ipython3",
   "version": "3.6.4"
  }
 },
 "nbformat": 4,
 "nbformat_minor": 2
}
